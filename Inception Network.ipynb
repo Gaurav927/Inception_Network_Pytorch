{
 "cells": [
  {
   "cell_type": "code",
   "execution_count": 1,
   "metadata": {},
   "outputs": [],
   "source": [
    "%matplotlib inline\n",
    "import torch\n",
    "import torch.nn as nn\n",
    "import torch.nn.functional as F\n",
    "import torch.optim as optim\n",
    "from torchvision import datasets, transforms\n",
    "from torch.autograd import Variable\n",
    "import warnings\n",
    "warnings.filterwarnings(action='ignore')\n",
    "import torchvision\n",
    "import matplotlib.pyplot as plt\n",
    "import numpy as np"
   ]
  },
  {
   "cell_type": "code",
   "execution_count": 2,
   "metadata": {},
   "outputs": [],
   "source": [
    "batch_size =64\n",
    "train_dataset = datasets.FashionMNIST(root='./FashionMNIST/',\n",
    "                               train=True,\n",
    "                               transform=transforms.ToTensor())\n",
    "\n",
    "test_dataset = datasets.FashionMNIST(root='./FashionMNIST/',\n",
    "                              train=False,\n",
    "                              transform=transforms.ToTensor())\n",
    "\n",
    "# Data Loader (Input Pipeline)\n",
    "train_loader = torch.utils.data.DataLoader(dataset=train_dataset,\n",
    "                                           batch_size=batch_size,\n",
    "                                           shuffle=True)\n",
    "\n",
    "test_loader = torch.utils.data.DataLoader(dataset=test_dataset,\n",
    "                                          batch_size=batch_size,\n",
    "                                          shuffle=False)\n"
   ]
  },
  {
   "cell_type": "code",
   "execution_count": 3,
   "metadata": {},
   "outputs": [
    {
     "name": "stdout",
     "output_type": "stream",
     "text": [
      "torch.Size([60000, 28, 28])\n",
      "torch.Size([60000])\n"
     ]
    }
   ],
   "source": [
    "print(train_loader.dataset.train_data.shape)\n",
    "print(train_loader.dataset.train_labels.shape)"
   ]
  },
  {
   "cell_type": "code",
   "execution_count": 4,
   "metadata": {},
   "outputs": [],
   "source": [
    "# Function to show an image\n",
    "def imshow(img):\n",
    "    npimg = img.numpy()\n",
    "    plt.imshow(np.transpose(npimg, (1,2,0)), interpolation='nearest')\n",
    "    plt.axis('off')\n",
    "    plt.show()\n",
    "classes = ('T-shirt/top', 'Trouser','Pullover','Dress', 'Coat','Sandal', 'Shirt', 'Sneaker', 'Bag', 'Ankle-boot')"
   ]
  },
  {
   "cell_type": "code",
   "execution_count": 5,
   "metadata": {},
   "outputs": [
    {
     "name": "stdout",
     "output_type": "stream",
     "text": [
      "torch.Size([64, 1, 28, 28])\n",
      "torch.Size([64])\n"
     ]
    },
    {
     "data": {
      "image/png": "[encoded data removed]",
      "text/plain": [
       "<Figure size 432x288 with 1 Axes>"
      ]
     },
     "metadata": {
      "needs_background": "light"
     },
     "output_type": "display_data"
    },
    {
     "name": "stdout",
     "output_type": "stream",
     "text": [
      "T-shirt/top Trouser Pullover Trouser\n"
     ]
    }
   ],
   "source": [
    "# get some random training images\n",
    "dataiter = iter(train_loader)\n",
    "images, labels = dataiter.next()\n",
    "print(images.shape)\n",
    "print(labels.shape)\n",
    "\n",
    "# show images\n",
    "imshow(torchvision.utils.make_grid(images[:4],nrow=4))\n",
    "# print labels\n",
    "print(' '.join('%5s' % classes[labels[j]] for j in range(4)))"
   ]
  },
  {
   "cell_type": "code",
   "execution_count": 10,
   "metadata": {},
   "outputs": [],
   "source": [
    "class Inception(torch.nn.Module):\n",
    "    def __init__(self,in_channels):\n",
    "        super(Inception,self).__init__()\n",
    "        \n",
    "        self.branch1x1 = nn.Conv2d(in_channels,16,kernel_size=1)\n",
    "        \n",
    "        self.branch5x5_1 = nn.Conv2d(in_channels,16,kernel_size=1)\n",
    "        self.branch5x5_2 = nn.Conv2d(16,24,kernel_size=5,padding=2)\n",
    "        \n",
    "        self.branch3x3_1 = nn.Conv2d(in_channels,16,kernel_size=1)\n",
    "        self.branch3x3_2 = nn.Conv2d(16,24,kernel_size=3,padding=1)\n",
    "        self.branch3x3_3 = nn.Conv2d(24,24,kernel_size=3,padding=1)\n",
    "        \n",
    "        self.branch_pool = nn.Conv2d(in_channels, 24, kernel_size=1)\n",
    "        \n",
    "    def forward(self,x):\n",
    "        \n",
    "        branch1x1 = self.branch1x1(x)\n",
    "        \n",
    "        branch5x5 = self.branch5x5_1(x)\n",
    "        branch5x5 = self.branch5x5_2(branch5x5)\n",
    "        \n",
    "        branch3x3 = self.branch3x3_1(x)\n",
    "        branch3x3 = self.branch3x3_2(branch3x3)\n",
    "        branch3x3 = self.branch3x3_3(branch3x3)\n",
    "        \n",
    "        branch_pool = F.avg_pool2d(x,kernel_size=3,padding=1,stride =1)\n",
    "        branch_pool = self.branch_pool(branch_pool)\n",
    "        \n",
    "        \n",
    "        output =[ branch1x1,branch5x5,branch3x3,branch_pool]\n",
    "        \n",
    "        return torch.cat(output,1)"
   ]
  },
  {
   "cell_type": "code",
   "execution_count": 11,
   "metadata": {},
   "outputs": [],
   "source": [
    "class Net(torch.nn.Module):\n",
    "    def __init__(self):\n",
    "        super(Net,self).__init__()\n",
    "        \n",
    "        self.conv1 = nn.Conv2d(1,10,kernel_size=5)\n",
    "        self.conv2 = nn.Conv2d(88,20,kernel_size=5)\n",
    "        \n",
    "        self.incept1 = Inception(in_channels=10)\n",
    "        self.incept2 = Inception(in_channels=20)\n",
    "        \n",
    "        self.mp = nn.MaxPool2d(2)\n",
    "        self.fc = nn.Linear(1408, 10)\n",
    "        \n",
    "    def forward(self,x):\n",
    "        in_size = x.size(0)\n",
    "        \n",
    "        \n",
    "        x = F.relu(self.mp(self.conv1(x)))\n",
    "        x = self.incept1(x)\n",
    "        \n",
    "        x = F.relu(self.mp(self.conv2(x)))\n",
    "        x = self.incept2(x)\n",
    "        \n",
    "        x = x.view(in_size, -1)  # flatten the tensor\n",
    "        x = self.fc(x)\n",
    "        return F.log_softmax(x)"
   ]
  },
  {
   "cell_type": "code",
   "execution_count": 17,
   "metadata": {},
   "outputs": [],
   "source": [
    "model = Net()\n",
    "criterion = nn.NLLLoss()\n",
    "optimizer = optim.SGD(model.parameters(), lr=0.01, momentum=0.5)"
   ]
  },
  {
   "cell_type": "code",
   "execution_count": 18,
   "metadata": {},
   "outputs": [
    {
     "name": "stdout",
     "output_type": "stream",
     "text": [
      "Train Epoch: 0 [0/60000 (0%)]\tLoss: 2.301847\n",
      "Train Epoch: 0 [6400/60000 (11%)]\tLoss: 2.286026\n",
      "Train Epoch: 0 [12800/60000 (21%)]\tLoss: 1.218995\n",
      "Train Epoch: 0 [19200/60000 (32%)]\tLoss: 0.697130\n",
      "Train Epoch: 0 [25600/60000 (43%)]\tLoss: 0.814392\n",
      "Train Epoch: 0 [32000/60000 (53%)]\tLoss: 0.704826\n",
      "Train Epoch: 0 [38400/60000 (64%)]\tLoss: 0.716702\n",
      "Train Epoch: 0 [44800/60000 (75%)]\tLoss: 0.630160\n",
      "Train Epoch: 0 [51200/60000 (85%)]\tLoss: 0.717141\n",
      "Train Epoch: 0 [57600/60000 (96%)]\tLoss: 0.564631\n",
      "Train Epoch: 1 [0/60000 (0%)]\tLoss: 0.834481\n",
      "Train Epoch: 1 [6400/60000 (11%)]\tLoss: 0.669474\n",
      "Train Epoch: 1 [12800/60000 (21%)]\tLoss: 0.614401\n",
      "Train Epoch: 1 [19200/60000 (32%)]\tLoss: 0.594722\n",
      "Train Epoch: 1 [25600/60000 (43%)]\tLoss: 0.591836\n",
      "Train Epoch: 1 [32000/60000 (53%)]\tLoss: 0.491253\n",
      "Train Epoch: 1 [38400/60000 (64%)]\tLoss: 0.534951\n",
      "Train Epoch: 1 [44800/60000 (75%)]\tLoss: 0.772181\n",
      "Train Epoch: 1 [51200/60000 (85%)]\tLoss: 0.633500\n",
      "Train Epoch: 1 [57600/60000 (96%)]\tLoss: 0.396705\n",
      "Train Epoch: 2 [0/60000 (0%)]\tLoss: 0.464301\n",
      "Train Epoch: 2 [6400/60000 (11%)]\tLoss: 0.475300\n",
      "Train Epoch: 2 [12800/60000 (21%)]\tLoss: 0.488223\n",
      "Train Epoch: 2 [19200/60000 (32%)]\tLoss: 0.647550\n",
      "Train Epoch: 2 [25600/60000 (43%)]\tLoss: 0.629097\n",
      "Train Epoch: 2 [32000/60000 (53%)]\tLoss: 0.434002\n",
      "Train Epoch: 2 [38400/60000 (64%)]\tLoss: 0.748904\n",
      "Train Epoch: 2 [44800/60000 (75%)]\tLoss: 0.526934\n",
      "Train Epoch: 2 [51200/60000 (85%)]\tLoss: 0.511571\n",
      "Train Epoch: 2 [57600/60000 (96%)]\tLoss: 0.221078\n",
      "Train Epoch: 3 [0/60000 (0%)]\tLoss: 0.222602\n",
      "Train Epoch: 3 [6400/60000 (11%)]\tLoss: 0.409839\n",
      "Train Epoch: 3 [12800/60000 (21%)]\tLoss: 0.486144\n",
      "Train Epoch: 3 [19200/60000 (32%)]\tLoss: 0.528460\n",
      "Train Epoch: 3 [25600/60000 (43%)]\tLoss: 0.302903\n",
      "Train Epoch: 3 [32000/60000 (53%)]\tLoss: 0.458696\n",
      "Train Epoch: 3 [38400/60000 (64%)]\tLoss: 0.485551\n",
      "Train Epoch: 3 [44800/60000 (75%)]\tLoss: 0.298264\n",
      "Train Epoch: 3 [51200/60000 (85%)]\tLoss: 0.571840\n",
      "Train Epoch: 3 [57600/60000 (96%)]\tLoss: 0.419450\n",
      "Train Epoch: 4 [0/60000 (0%)]\tLoss: 0.458063\n",
      "Train Epoch: 4 [6400/60000 (11%)]\tLoss: 0.372980\n",
      "Train Epoch: 4 [12800/60000 (21%)]\tLoss: 0.342504\n",
      "Train Epoch: 4 [19200/60000 (32%)]\tLoss: 0.406088\n",
      "Train Epoch: 4 [25600/60000 (43%)]\tLoss: 0.599294\n",
      "Train Epoch: 4 [32000/60000 (53%)]\tLoss: 0.308650\n",
      "Train Epoch: 4 [38400/60000 (64%)]\tLoss: 0.390098\n",
      "Train Epoch: 4 [44800/60000 (75%)]\tLoss: 0.385489\n",
      "Train Epoch: 4 [51200/60000 (85%)]\tLoss: 0.344769\n",
      "Train Epoch: 4 [57600/60000 (96%)]\tLoss: 0.453635\n",
      "Train Epoch: 5 [0/60000 (0%)]\tLoss: 0.437552\n",
      "Train Epoch: 5 [6400/60000 (11%)]\tLoss: 0.480540\n",
      "Train Epoch: 5 [12800/60000 (21%)]\tLoss: 0.317012\n",
      "Train Epoch: 5 [19200/60000 (32%)]\tLoss: 0.290550\n",
      "Train Epoch: 5 [25600/60000 (43%)]\tLoss: 0.326502\n",
      "Train Epoch: 5 [32000/60000 (53%)]\tLoss: 0.255692\n",
      "Train Epoch: 5 [38400/60000 (64%)]\tLoss: 0.349412\n",
      "Train Epoch: 5 [44800/60000 (75%)]\tLoss: 0.538838\n",
      "Train Epoch: 5 [51200/60000 (85%)]\tLoss: 0.342611\n",
      "Train Epoch: 5 [57600/60000 (96%)]\tLoss: 0.369716\n",
      "Train Epoch: 6 [0/60000 (0%)]\tLoss: 0.264939\n",
      "Train Epoch: 6 [6400/60000 (11%)]\tLoss: 0.272319\n",
      "Train Epoch: 6 [12800/60000 (21%)]\tLoss: 0.347253\n",
      "Train Epoch: 6 [19200/60000 (32%)]\tLoss: 0.477413\n",
      "Train Epoch: 6 [25600/60000 (43%)]\tLoss: 0.379967\n",
      "Train Epoch: 6 [32000/60000 (53%)]\tLoss: 0.402996\n",
      "Train Epoch: 6 [38400/60000 (64%)]\tLoss: 0.329242\n",
      "Train Epoch: 6 [44800/60000 (75%)]\tLoss: 0.346942\n",
      "Train Epoch: 6 [51200/60000 (85%)]\tLoss: 0.413198\n",
      "Train Epoch: 6 [57600/60000 (96%)]\tLoss: 0.497059\n",
      "Train Epoch: 7 [0/60000 (0%)]\tLoss: 0.569327\n",
      "Train Epoch: 7 [6400/60000 (11%)]\tLoss: 0.288023\n",
      "Train Epoch: 7 [12800/60000 (21%)]\tLoss: 0.213429\n",
      "Train Epoch: 7 [19200/60000 (32%)]\tLoss: 0.404458\n",
      "Train Epoch: 7 [25600/60000 (43%)]\tLoss: 0.218809\n",
      "Train Epoch: 7 [32000/60000 (53%)]\tLoss: 0.369773\n",
      "Train Epoch: 7 [38400/60000 (64%)]\tLoss: 0.444371\n",
      "Train Epoch: 7 [44800/60000 (75%)]\tLoss: 0.351011\n",
      "Train Epoch: 7 [51200/60000 (85%)]\tLoss: 0.358270\n",
      "Train Epoch: 7 [57600/60000 (96%)]\tLoss: 0.197722\n",
      "Train Epoch: 8 [0/60000 (0%)]\tLoss: 0.325249\n",
      "Train Epoch: 8 [6400/60000 (11%)]\tLoss: 0.444537\n",
      "Train Epoch: 8 [12800/60000 (21%)]\tLoss: 0.303403\n",
      "Train Epoch: 8 [19200/60000 (32%)]\tLoss: 0.563305\n",
      "Train Epoch: 8 [25600/60000 (43%)]\tLoss: 0.365717\n",
      "Train Epoch: 8 [32000/60000 (53%)]\tLoss: 0.428233\n",
      "Train Epoch: 8 [38400/60000 (64%)]\tLoss: 0.278396\n",
      "Train Epoch: 8 [44800/60000 (75%)]\tLoss: 0.299699\n",
      "Train Epoch: 8 [51200/60000 (85%)]\tLoss: 0.349227\n",
      "Train Epoch: 8 [57600/60000 (96%)]\tLoss: 0.277625\n",
      "Train Epoch: 9 [0/60000 (0%)]\tLoss: 0.538485\n",
      "Train Epoch: 9 [6400/60000 (11%)]\tLoss: 0.290310\n",
      "Train Epoch: 9 [12800/60000 (21%)]\tLoss: 0.201544\n",
      "Train Epoch: 9 [19200/60000 (32%)]\tLoss: 0.314099\n",
      "Train Epoch: 9 [25600/60000 (43%)]\tLoss: 0.392795\n",
      "Train Epoch: 9 [32000/60000 (53%)]\tLoss: 0.285889\n",
      "Train Epoch: 9 [38400/60000 (64%)]\tLoss: 0.344883\n",
      "Train Epoch: 9 [44800/60000 (75%)]\tLoss: 0.317052\n",
      "Train Epoch: 9 [51200/60000 (85%)]\tLoss: 0.169834\n",
      "Train Epoch: 9 [57600/60000 (96%)]\tLoss: 0.594136\n"
     ]
    }
   ],
   "source": [
    "for epoch in range(10):\n",
    "    for i ,(data,target) in enumerate(train_loader):\n",
    "        data,target = Variable(data),Variable(target)\n",
    "        optimizer.zero_grad()\n",
    "        y_pred = model.forward(data)\n",
    "        loss = criterion(y_pred,target)\n",
    "        \n",
    "        loss.backward()\n",
    "        optimizer.step()\n",
    "        if i % 100 == 0:\n",
    "            print('Train Epoch: {} [{}/{} ({:.0f}%)]\\tLoss: {:.6f}'.format(\n",
    "                epoch, i * len(data), len(train_loader.dataset),\n",
    "                100. * i / len(train_loader), loss.item()))"
   ]
  },
  {
   "cell_type": "code",
   "execution_count": 19,
   "metadata": {},
   "outputs": [
    {
     "name": "stdout",
     "output_type": "stream",
     "text": [
      "\n",
      "Test set: Average loss: 0.0057, Accuracy: 8711/10000 (87%)\n",
      "\n"
     ]
    }
   ],
   "source": [
    "test_loss = 0\n",
    "correct = 0\n",
    "for data, target in test_loader:\n",
    "    data, target = Variable(data), Variable(target)\n",
    "    output = model.forward(data)\n",
    "    # sum up batch loss\n",
    "    test_loss += criterion(output, target).item()\n",
    "    # get the index of the max\n",
    "    pred = output.data.max(dim=1,keepdim=True)[1]\n",
    "    \n",
    "    correct += pred.eq(target.data.view_as(pred)).cpu().sum()\n",
    "\n",
    "test_loss /= len(test_loader.dataset)\n",
    "print('\\nTest set: Average loss: {:.4f}, Accuracy: {}/{} ({:.0f}%)\\n'.format(\n",
    "    test_loss, correct, len(test_loader.dataset),\n",
    "    100. * correct / len(test_loader.dataset)))"
   ]
  }
 ],
 "metadata": {
  "kernelspec": {
   "display_name": "Python 3",
   "language": "python",
   "name": "python3"
  },
  "language_info": {
   "codemirror_mode": {
    "name": "ipython",
    "version": 3
   },
   "file_extension": ".py",
   "mimetype": "text/x-python",
   "name": "python",
   "nbconvert_exporter": "python",
   "pygments_lexer": "ipython3",
   "version": "3.6.8"
  }
 },
 "nbformat": 4,
 "nbformat_minor": 2
}
